{
 "cells": [
  {
   "cell_type": "code",
   "execution_count": 1,
   "metadata": {},
   "outputs": [],
   "source": [
    "import os\n",
    "import requests\n",
    "\n",
    "api_token = \"btjZHTwIomIDkazihXanMyPwZaDKDzJX\"\n",
    "\n",
    "\n",
    "api_endpoint = \"https://www.ncei.noaa.gov/cdo-web/api/v2/\"\n",
    "url = api_endpoint + \"data\"\n",
    "headers = {'token': api_token}\n",
    "PARAMS = {'datasetid': \"GHCND\", 'startdate': \"2020-01-01\", 'enddate': \"2020-06-01\", 'locationid': 'ZIP:43338'}\n",
    "r = requests.get(url = url, headers=headers, params=PARAMS)\n",
    "if r.status_code == 200:\n",
    "    json = r.json()\n",
    "else:\n",
    "    print(\"not a valid endpoint\")\n",
    "    print(r.content)"
   ]
  },
  {
   "cell_type": "code",
   "execution_count": 7,
   "metadata": {},
   "outputs": [
    {
     "name": "stdout",
     "output_type": "stream",
     "text": [
      "{'mindate': '1750-02-01', 'maxdate': '2024-01-20', 'name': 'Daily Summaries', 'datacoverage': 1, 'id': 'GHCND'}\n"
     ]
    }
   ],
   "source": [
    "dataset_url = api_endpoint + \"datasets/GHCND\"\n",
    "r = requests.get(url = dataset_url, headers=headers)\n",
    "if r.status_code == 200:\n",
    "    datasetTypes = r.json()\n",
    "    print(datasetTypes)\n",
    "else:\n",
    "    print(\"not a valid endpoint\")\n",
    "    print(r.content)"
   ]
  },
  {
   "cell_type": "code",
   "execution_count": 2,
   "metadata": {},
   "outputs": [
    {
     "name": "stdout",
     "output_type": "stream",
     "text": [
      "{'metadata': {'resultset': {'offset': 1, 'count': 459, 'limit': 25}}, 'results': [{'date': '2020-01-01T00:00:00', 'datatype': 'PRCP', 'station': 'GHCND:US1OHMW0004', 'attributes': ',,N,0600', 'value': 18}, {'date': '2020-01-01T00:00:00', 'datatype': 'SNOW', 'station': 'GHCND:US1OHMW0004', 'attributes': ',,N,0600', 'value': 5}, {'date': '2020-01-01T00:00:00', 'datatype': 'SNWD', 'station': 'GHCND:US1OHMW0004', 'attributes': ',,N,0600', 'value': 5}, {'date': '2020-01-02T00:00:00', 'datatype': 'PRCP', 'station': 'GHCND:US1OHMW0004', 'attributes': ',,N,0600', 'value': 0}, {'date': '2020-01-02T00:00:00', 'datatype': 'SNOW', 'station': 'GHCND:US1OHMW0004', 'attributes': ',,N,0600', 'value': 0}, {'date': '2020-01-02T00:00:00', 'datatype': 'SNWD', 'station': 'GHCND:US1OHMW0004', 'attributes': ',,N,0600', 'value': 0}, {'date': '2020-01-03T00:00:00', 'datatype': 'PRCP', 'station': 'GHCND:US1OHMW0004', 'attributes': ',,N,0600', 'value': 124}, {'date': '2020-01-03T00:00:00', 'datatype': 'SNOW', 'station': 'GHCND:US1OHMW0004', 'attributes': ',,N,0600', 'value': 0}, {'date': '2020-01-03T00:00:00', 'datatype': 'SNWD', 'station': 'GHCND:US1OHMW0004', 'attributes': ',,N,0600', 'value': 0}, {'date': '2020-01-04T00:00:00', 'datatype': 'PRCP', 'station': 'GHCND:US1OHMW0004', 'attributes': ',,N,0600', 'value': 94}, {'date': '2020-01-04T00:00:00', 'datatype': 'SNOW', 'station': 'GHCND:US1OHMW0004', 'attributes': ',,N,0600', 'value': 0}, {'date': '2020-01-04T00:00:00', 'datatype': 'SNWD', 'station': 'GHCND:US1OHMW0004', 'attributes': ',,N,0600', 'value': 0}, {'date': '2020-01-05T00:00:00', 'datatype': 'PRCP', 'station': 'GHCND:US1OHMW0004', 'attributes': ',,N,0600', 'value': 10}, {'date': '2020-01-05T00:00:00', 'datatype': 'SNOW', 'station': 'GHCND:US1OHMW0004', 'attributes': ',,N,0600', 'value': 10}, {'date': '2020-01-05T00:00:00', 'datatype': 'SNWD', 'station': 'GHCND:US1OHMW0004', 'attributes': ',,N,0600', 'value': 10}, {'date': '2020-01-06T00:00:00', 'datatype': 'PRCP', 'station': 'GHCND:US1OHMW0004', 'attributes': 'T,,N,0600', 'value': 0}, {'date': '2020-01-06T00:00:00', 'datatype': 'SNOW', 'station': 'GHCND:US1OHMW0004', 'attributes': 'T,,N,0600', 'value': 0}, {'date': '2020-01-06T00:00:00', 'datatype': 'SNWD', 'station': 'GHCND:US1OHMW0004', 'attributes': ',,N,0600', 'value': 0}, {'date': '2020-01-07T00:00:00', 'datatype': 'PRCP', 'station': 'GHCND:US1OHMW0004', 'attributes': ',,N,0600', 'value': 0}, {'date': '2020-01-07T00:00:00', 'datatype': 'SNOW', 'station': 'GHCND:US1OHMW0004', 'attributes': ',,N,0600', 'value': 0}, {'date': '2020-01-07T00:00:00', 'datatype': 'SNWD', 'station': 'GHCND:US1OHMW0004', 'attributes': ',,N,0600', 'value': 0}, {'date': '2020-01-08T00:00:00', 'datatype': 'PRCP', 'station': 'GHCND:US1OHMW0004', 'attributes': ',,N,0600', 'value': 0}, {'date': '2020-01-08T00:00:00', 'datatype': 'SNOW', 'station': 'GHCND:US1OHMW0004', 'attributes': ',,N,0600', 'value': 0}, {'date': '2020-01-08T00:00:00', 'datatype': 'SNWD', 'station': 'GHCND:US1OHMW0004', 'attributes': ',,N,0600', 'value': 0}, {'date': '2020-01-09T00:00:00', 'datatype': 'PRCP', 'station': 'GHCND:US1OHMW0004', 'attributes': 'T,,N,0600', 'value': 0}]}\n"
     ]
    }
   ],
   "source": [
    "print(json)"
   ]
  }
 ],
 "metadata": {
  "kernelspec": {
   "display_name": "ML",
   "language": "python",
   "name": "python3"
  },
  "language_info": {
   "codemirror_mode": {
    "name": "ipython",
    "version": 3
   },
   "file_extension": ".py",
   "mimetype": "text/x-python",
   "name": "python",
   "nbconvert_exporter": "python",
   "pygments_lexer": "ipython3",
   "version": "3.10.10"
  }
 },
 "nbformat": 4,
 "nbformat_minor": 2
}
